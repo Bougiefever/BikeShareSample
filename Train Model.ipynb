{
 "cells": [
  {
   "cell_type": "code",
   "execution_count": 1,
   "metadata": {},
   "outputs": [],
   "source": [
    "# Use the Azure Machine Learning data collector to log various metrics\n",
    "from azureml.logging import get_azureml_logger\n",
    "logger = get_azureml_logger()"
   ]
  },
  {
   "cell_type": "code",
   "execution_count": 2,
   "metadata": {},
   "outputs": [
    {
     "name": "stdout",
     "output_type": "stream",
     "text": [
      "History logging enabled\n"
     ]
    }
   ],
   "source": [
    "# Use Azure Machine Learning history magic to control history collection\n",
    "# History is off by default, options are \"on\", \"off\", or \"show\"\n",
    "%azureml history on"
   ]
  },
  {
   "cell_type": "code",
   "execution_count": 3,
   "metadata": {},
   "outputs": [],
   "source": [
    "from __future__ import print_function\n",
    "from azure.storage.blob import BlockBlobService\n",
    "import os\n",
    "import cntk as C\n",
    "import numpy as np\n",
    "import scipy.sparse\n",
    "import sys\n",
    "import glob"
   ]
  },
  {
   "cell_type": "code",
   "execution_count": 4,
   "metadata": {},
   "outputs": [],
   "source": [
    "#minibatch size is size of single minibatch.  To calc optimal size:\n",
    "#mem = memory - neural net params * float32 size\n",
    "#size = mem / (num_features * float32 size)\n",
    "minibatch_size = 10000\n",
    "#epoch size is virtual concept of whole data set.\n",
    "epoch_size = 50000\n",
    "num_features = 212\n",
    "\n",
    "#sweep is a full pass through the data set.\n",
    "max_sweeps = 1000\n",
    "\n",
    "#num_outputs = 58\n",
    "num_outputs = 1"
   ]
  },
  {
   "cell_type": "code",
   "execution_count": 5,
   "metadata": {},
   "outputs": [],
   "source": [
    "# Define the task.\n",
    "x = C.input_variable(num_features)\n",
    "y = C.input_variable(num_outputs, is_sparse=False)\n",
    "base_container = 'data-files'\n",
    "train_folder = 'train_ctf'\n",
    "test_folder = 'test_ctf'\n",
    "base_local = '/data/bikeshare/'\n",
    "model_path = os.path.join('.', 'outputs', 'model.dnn')\n",
    "blob_acct_name = 'kpmgstorage1'\n",
    "blob_acct_key = '2+BXi305SN45G9yyhykvp7Ij6KYka9W/WvRH4aG5fOuK+9Fenk5Yhg6X6lUMrxjpxE4wKxXyk9NYptzUpZYQkQ=='\n"
   ]
  },
  {
   "cell_type": "code",
   "execution_count": 6,
   "metadata": {},
   "outputs": [],
   "source": [
    "final_train_file = base_local + train_folder + \"/\" + 'train_complete.ctf'\n",
    "final_test_file = base_local + test_folder + \"/\" + 'test_complete.ctf'"
   ]
  },
  {
   "cell_type": "code",
   "execution_count": 7,
   "metadata": {},
   "outputs": [
    {
     "data": {
      "text/plain": [
       "'/data/bikeshare/train_ctf/train_complete.ctf'"
      ]
     },
     "execution_count": 7,
     "metadata": {},
     "output_type": "execute_result"
    }
   ],
   "source": [
    "final_train_file\n"
   ]
  },
  {
   "cell_type": "code",
   "execution_count": 8,
   "metadata": {},
   "outputs": [],
   "source": [
    "#Download the train data into our docker container\n",
    "bbs = BlockBlobService(account_name=blob_acct_name, account_key=blob_acct_key)"
   ]
  },
  {
   "cell_type": "code",
   "execution_count": 9,
   "metadata": {},
   "outputs": [],
   "source": [
    "def download_and_merge_ctf(remote_base, local_base, relative, output_file_name):\n",
    "    generator = bbs.list_blobs(remote_base)\n",
    "    for blob in generator:\n",
    "        tokens = blob.name.split('/')\n",
    "        if(tokens[0] == relative\n",
    "          and len(tokens) > 1\n",
    "          and tokens[1] != \"_SUCCESS\"):\n",
    "            if not os.path.exists(local_base + relative):\n",
    "                os.makedirs(local_base + relative)\n",
    "            bbs.get_blob_to_path(remote_base, blob.name, local_base + '/' + blob.name + '.ctf')\n",
    "\n",
    "\n",
    "    read_files = glob.glob(local_base + relative + \"/*.ctf\")\n",
    "    with open(output_file_name, \"wb\") as outfile:\n",
    "        for f in read_files:\n",
    "            with open(f, \"rb\") as infile:\n",
    "                outfile.write(infile.read())"
   ]
  },
  {
   "cell_type": "code",
   "execution_count": 10,
   "metadata": {},
   "outputs": [],
   "source": [
    "#download_and_merge_ctf(base_container, base_local, train_folder, final_train_file)\n",
    "#download_and_merge_ctf(base_container, base_local, test_folder, 'test_complete.ctf')"
   ]
  },
  {
   "cell_type": "code",
   "execution_count": 11,
   "metadata": {},
   "outputs": [
    {
     "data": {
      "text/plain": [
       "'/data/bikeshare/train_ctf/train_complete.ctf'"
      ]
     },
     "execution_count": 11,
     "metadata": {},
     "output_type": "execute_result"
    }
   ],
   "source": [
    "final_train_file"
   ]
  },
  {
   "cell_type": "code",
   "execution_count": 12,
   "metadata": {},
   "outputs": [],
   "source": [
    "# Read a COMPOSITE reader to read data from both the image map and CTF files\n",
    "def create_minibatch_source(ctf_file, is_training, num_outputs):\n",
    "    \n",
    "    # create CTF DESERIALIZER for CTF file\n",
    "    data_source = C.io.CTFDeserializer(ctf_file, C.io.StreamDefs(\n",
    "        features = C.io.StreamDef(field=\"features\", shape=num_features, is_sparse=False),\n",
    "        label = C.io.StreamDef(field=\"label\", shape=num_outputs, is_sparse=False)))\n",
    "\n",
    "    # create a minibatch source by compositing them together \n",
    "    return C.io.MinibatchSource([data_source], max_sweeps=max_sweeps, randomize=is_training)"
   ]
  },
  {
   "cell_type": "code",
   "execution_count": 13,
   "metadata": {},
   "outputs": [],
   "source": [
    "train_source = create_minibatch_source(final_train_file, True, num_outputs)\n",
    "#test_source = create_minibatch_source(final_test_file, False, num_outputs)"
   ]
  },
  {
   "cell_type": "code",
   "execution_count": 14,
   "metadata": {},
   "outputs": [],
   "source": [
    "input_map = {    \n",
    "    x : train_source.streams.features,\n",
    "    y : train_source.streams.label\n",
    "}\n"
   ]
  },
  {
   "cell_type": "code",
   "execution_count": 15,
   "metadata": {},
   "outputs": [],
   "source": [
    "num_neurons = 100\n",
    "def create_model(x):\n",
    "    with C.layers.default_options(init = C.layers.glorot_uniform(), activation = C.relu):            \n",
    "            h = C.layers.Dense(num_neurons, name=\"first\")(x)\n",
    "            h = C.layers.Dense(num_neurons, name=\"second\")(h)\n",
    "            h = C.layers.Dense(num_neurons, name=\"third\")(h)\n",
    "            h = C.layers.Dropout(dropout_rate=0.5)(h)\n",
    "            p = C.layers.Dense(num_outputs, activation = None, name=\"prediction\")(h)         \n",
    "            return p"
   ]
  },
  {
   "cell_type": "code",
   "execution_count": 16,
   "metadata": {},
   "outputs": [],
   "source": [
    "model = create_model(x)"
   ]
  },
  {
   "cell_type": "code",
   "execution_count": 17,
   "metadata": {},
   "outputs": [],
   "source": [
    "# loss function\n",
    "# loss = C.cross_entropy_with_softmax(model, y)\n",
    "loss = C.squared_error(model, y)"
   ]
  },
  {
   "cell_type": "code",
   "execution_count": 18,
   "metadata": {},
   "outputs": [],
   "source": [
    "#error metric function\n",
    "# error = C.classification_error(model, y)\n",
    "error = C.sqrt(loss)"
   ]
  },
  {
   "cell_type": "code",
   "execution_count": 19,
   "metadata": {},
   "outputs": [],
   "source": [
    "#combine error and loss for training usage (AKA Criterion function)\n",
    "criterion = C.combine([loss, error])"
   ]
  },
  {
   "cell_type": "code",
   "execution_count": 20,
   "metadata": {},
   "outputs": [],
   "source": [
    "lr_schedule = [0.01]*100 + [0.001]*100 + [0.0001]\n",
    "learner = C.sgd(model.parameters, lr_schedule, epoch_size=epoch_size)"
   ]
  },
  {
   "cell_type": "code",
   "execution_count": 21,
   "metadata": {},
   "outputs": [],
   "source": [
    "#frequency is defined by number of samples\n",
    "progress_writer = C.logging.ProgressPrinter(freq=epoch_size)"
   ]
  },
  {
   "cell_type": "code",
   "execution_count": 22,
   "metadata": {},
   "outputs": [],
   "source": [
    "#frequence is by number of samples\n",
    "checkpoint_config = C.CheckpointConfig(filename=model_path, frequency=(epoch_size * 10), restore = False)\n"
   ]
  },
  {
   "cell_type": "code",
   "execution_count": 23,
   "metadata": {},
   "outputs": [],
   "source": [
    "#test_config = C.TestConfig(test_source)\n",
    "def custom_cv_func(index, average_error, cv_num_samples, cv_num_minibatches):\n",
    "    print(\"CV Error: \" + str(average_error))\n",
    "    #logger.log(\"Error\", average_error)\n",
    "    return True"
   ]
  },
  {
   "cell_type": "code",
   "execution_count": 24,
   "metadata": {},
   "outputs": [],
   "source": [
    "cv_config = C.CrossValidationConfig(minibatch_source = train_source,\n",
    "                                    minibatch_size = minibatch_size,\n",
    "                                    model_inputs_to_streams = input_map,\n",
    "                                    frequency = epoch_size,\n",
    "                                    max_samples = epoch_size,\n",
    "                                    callback=custom_cv_func)\n"
   ]
  },
  {
   "cell_type": "code",
   "execution_count": 25,
   "metadata": {},
   "outputs": [
    {
     "name": "stdout",
     "output_type": "stream",
     "text": [
      "Learning rate per minibatch: 0.01\n",
      "Finished Epoch[1]: loss = 10.167186 * 50000, metric = 239.34% * 50000 9.327s (5360.8 samples/s);\n",
      "Finished Evaluation [1]: Minibatch[1-5]: metric = 192.82% * 50000;\n",
      "CV Error: 1.9281672265625\n",
      "Finished Epoch[2]: loss = 6.905759 * 50000, metric = 175.87% * 50000 1.328s (37650.6 samples/s);\n",
      "Finished Evaluation [2]: Minibatch[1-5]: metric = 159.61% * 50000;\n",
      "CV Error: 1.59610794921875\n",
      "Finished Epoch[3]: loss = 5.056780 * 50000, metric = 162.62% * 50000 1.324s (37764.4 samples/s);\n",
      "Finished Evaluation [3]: Minibatch[1-5]: metric = 161.32% * 50000;\n",
      "CV Error: 1.61320248046875\n",
      "Finished Epoch[4]: loss = 4.581927 * 50000, metric = 165.38% * 50000 1.355s (36900.4 samples/s);\n",
      "Finished Evaluation [4]: Minibatch[1-5]: metric = 163.61% * 50000;\n",
      "CV Error: 1.6361098046875\n",
      "Finished Epoch[5]: loss = 4.540851 * 50000, metric = 166.95% * 50000 1.488s (33602.2 samples/s);\n",
      "Finished Evaluation [5]: Minibatch[1-5]: metric = 165.61% * 50000;\n",
      "CV Error: 1.6561012109375\n",
      "Finished Epoch[6]: loss = 4.618304 * 50000, metric = 168.67% * 50000 1.517s (32959.8 samples/s);\n",
      "Finished Evaluation [6]: Minibatch[1-5]: metric = 164.40% * 50000;\n",
      "CV Error: 1.6439690234375\n",
      "Finished Epoch[7]: loss = 4.538474 * 50000, metric = 167.13% * 50000 1.803s (27731.6 samples/s);\n",
      "Finished Evaluation [7]: Minibatch[1-5]: metric = 165.24% * 50000;\n",
      "CV Error: 1.65237060546875\n",
      "Finished Epoch[8]: loss = 4.568094 * 50000, metric = 167.95% * 50000 1.817s (27517.9 samples/s);\n",
      "Finished Evaluation [8]: Minibatch[1-5]: metric = 164.79% * 50000;\n",
      "CV Error: 1.6479083984375\n",
      "Finished Epoch[9]: loss = 4.531645 * 50000, metric = 167.42% * 50000 2.045s (24449.9 samples/s);\n",
      "Finished Evaluation [9]: Minibatch[1-5]: metric = 164.23% * 50000;\n",
      "CV Error: 1.642301796875\n",
      "Finished Epoch[10]: loss = 4.504701 * 50000, metric = 166.55% * 50000 1.447s (34554.3 samples/s);\n",
      "Finished Evaluation [10]: Minibatch[1-5]: metric = 164.58% * 50000;\n",
      "CV Error: 1.645831953125\n",
      "Finished Epoch[11]: loss = 4.526904 * 50000, metric = 167.17% * 50000 1.582s (31605.6 samples/s);\n",
      "Finished Evaluation [11]: Minibatch[1-5]: metric = 165.77% * 50000;\n",
      "CV Error: 1.6576728515625\n",
      "Finished Epoch[12]: loss = 4.558117 * 50000, metric = 168.22% * 50000 1.576s (31725.9 samples/s);\n",
      "Finished Evaluation [12]: Minibatch[1-5]: metric = 164.82% * 50000;\n",
      "CV Error: 1.6482087109375\n",
      "Finished Epoch[13]: loss = 4.509764 * 50000, metric = 167.51% * 50000 1.685s (29673.6 samples/s);\n",
      "Finished Evaluation [13]: Minibatch[1-5]: metric = 164.14% * 50000;\n",
      "CV Error: 1.64135205078125\n",
      "Finished Epoch[14]: loss = 4.449708 * 50000, metric = 166.00% * 50000 1.947s (25680.5 samples/s);\n",
      "Finished Evaluation [14]: Minibatch[1-5]: metric = 163.62% * 50000;\n",
      "CV Error: 1.636166015625\n",
      "Finished Epoch[15]: loss = 4.459572 * 50000, metric = 165.74% * 50000 2.028s (24654.8 samples/s);\n",
      "Finished Evaluation [15]: Minibatch[1-5]: metric = 164.62% * 50000;\n",
      "CV Error: 1.6461830078125\n",
      "Finished Epoch[16]: loss = 4.496894 * 50000, metric = 167.14% * 50000 1.630s (30674.8 samples/s);\n",
      "Finished Evaluation [16]: Minibatch[1-5]: metric = 164.80% * 50000;\n",
      "CV Error: 1.64795552734375\n",
      "Finished Epoch[17]: loss = 4.492279 * 50000, metric = 167.09% * 50000 1.479s (33806.6 samples/s);\n",
      "Finished Evaluation [17]: Minibatch[1-5]: metric = 163.59% * 50000;\n",
      "CV Error: 1.63585958984375\n",
      "Finished Epoch[18]: loss = 4.446824 * 50000, metric = 165.98% * 50000 1.799s (27793.2 samples/s);\n",
      "Finished Evaluation [18]: Minibatch[1-5]: metric = 163.23% * 50000;\n",
      "CV Error: 1.6322511328125\n",
      "Finished Epoch[19]: loss = 4.407102 * 50000, metric = 165.42% * 50000 1.597s (31308.7 samples/s);\n",
      "Finished Evaluation [19]: Minibatch[1-5]: metric = 164.05% * 50000;\n",
      "CV Error: 1.6404723046875\n",
      "Finished Epoch[20]: loss = 4.478393 * 50000, metric = 166.41% * 50000 1.803s (27731.6 samples/s);\n",
      "Finished Evaluation [20]: Minibatch[1-5]: metric = 163.87% * 50000;\n",
      "CV Error: 1.63866873046875\n",
      "Finished Epoch[21]: loss = 4.431383 * 50000, metric = 165.87% * 50000 1.496s (33422.5 samples/s);\n",
      "Finished Evaluation [21]: Minibatch[1-5]: metric = 163.94% * 50000;\n",
      "CV Error: 1.6394462890625\n",
      "Finished Epoch[22]: loss = 4.439660 * 50000, metric = 166.09% * 50000 1.609s (31075.2 samples/s);\n",
      "Finished Evaluation [22]: Minibatch[1-5]: metric = 162.86% * 50000;\n",
      "CV Error: 1.62860677734375\n",
      "Finished Epoch[23]: loss = 4.380456 * 50000, metric = 164.93% * 50000 1.695s (29498.5 samples/s);\n",
      "Finished Evaluation [23]: Minibatch[1-5]: metric = 163.52% * 50000;\n",
      "CV Error: 1.635190703125\n",
      "Finished Epoch[24]: loss = 4.441848 * 50000, metric = 165.95% * 50000 1.702s (29377.2 samples/s);\n",
      "Finished Evaluation [24]: Minibatch[1-5]: metric = 163.38% * 50000;\n",
      "CV Error: 1.63375892578125\n",
      "Finished Epoch[25]: loss = 4.408837 * 50000, metric = 165.63% * 50000 1.783s (28042.6 samples/s);\n",
      "Finished Evaluation [25]: Minibatch[1-5]: metric = 163.02% * 50000;\n",
      "CV Error: 1.6302180078125\n",
      "Finished Epoch[26]: loss = 4.399441 * 50000, metric = 165.29% * 50000 1.523s (32829.9 samples/s);\n",
      "Finished Evaluation [26]: Minibatch[1-5]: metric = 162.91% * 50000;\n",
      "CV Error: 1.629050859375\n",
      "Finished Epoch[27]: loss = 4.387642 * 50000, metric = 165.18% * 50000 1.831s (27307.5 samples/s);\n",
      "Finished Evaluation [27]: Minibatch[1-5]: metric = 163.66% * 50000;\n",
      "CV Error: 1.636599296875\n",
      "Finished Epoch[28]: loss = 4.404699 * 50000, metric = 165.65% * 50000 1.533s (32615.8 samples/s);\n",
      "Finished Evaluation [28]: Minibatch[1-5]: metric = 163.03% * 50000;\n",
      "CV Error: 1.6302894921875\n",
      "Finished Epoch[29]: loss = 4.351007 * 50000, metric = 164.94% * 50000 1.747s (28620.5 samples/s);\n",
      "Finished Evaluation [29]: Minibatch[1-5]: metric = 162.47% * 50000;\n",
      "CV Error: 1.62471203125\n",
      "Finished Epoch[30]: loss = 4.391709 * 50000, metric = 164.88% * 50000 1.940s (25773.2 samples/s);\n",
      "Finished Evaluation [30]: Minibatch[1-5]: metric = 161.83% * 50000;\n",
      "CV Error: 1.61827169921875\n",
      "Finished Epoch[31]: loss = 4.339208 * 50000, metric = 163.87% * 50000 1.490s (33557.0 samples/s);\n",
      "Finished Evaluation [31]: Minibatch[1-5]: metric = 162.43% * 50000;\n",
      "CV Error: 1.62427275390625\n",
      "Finished Epoch[32]: loss = 4.359287 * 50000, metric = 164.74% * 50000 2.035s (24570.0 samples/s);\n",
      "Finished Evaluation [32]: Minibatch[1-5]: metric = 162.24% * 50000;\n",
      "CV Error: 1.6223834765625\n",
      "Finished Epoch[33]: loss = 4.332369 * 50000, metric = 164.33% * 50000 1.661s (30102.3 samples/s);\n",
      "Finished Evaluation [33]: Minibatch[1-5]: metric = 162.42% * 50000;\n",
      "CV Error: 1.624178515625\n",
      "Finished Epoch[34]: loss = 4.365283 * 50000, metric = 164.76% * 50000 1.477s (33852.4 samples/s);\n",
      "Finished Evaluation [34]: Minibatch[1-5]: metric = 162.62% * 50000;\n",
      "CV Error: 1.626183203125\n",
      "Finished Epoch[35]: loss = 4.393367 * 50000, metric = 165.04% * 50000 1.708s (29274.0 samples/s);\n",
      "Finished Evaluation [35]: Minibatch[1-5]: metric = 160.99% * 50000;\n",
      "CV Error: 1.6098579296875\n",
      "Finished Epoch[36]: loss = 4.265224 * 50000, metric = 162.80% * 50000 2.047s (24426.0 samples/s);\n",
      "Finished Evaluation [36]: Minibatch[1-5]: metric = 162.47% * 50000;\n",
      "CV Error: 1.62465638671875\n",
      "Finished Epoch[37]: loss = 4.350895 * 50000, metric = 164.72% * 50000 1.797s (27824.2 samples/s);\n",
      "Finished Evaluation [37]: Minibatch[1-5]: metric = 161.72% * 50000;\n",
      "CV Error: 1.61717208984375\n",
      "Finished Epoch[38]: loss = 4.346269 * 50000, metric = 164.32% * 50000 1.760s (28409.1 samples/s);\n",
      "Finished Evaluation [38]: Minibatch[1-5]: metric = 160.65% * 50000;\n",
      "CV Error: 1.6064505078125\n",
      "Finished Epoch[39]: loss = 4.261451 * 50000, metric = 162.84% * 50000 1.777s (28137.3 samples/s);\n",
      "Finished Evaluation [39]: Minibatch[1-5]: metric = 161.36% * 50000;\n",
      "CV Error: 1.61362779296875\n",
      "Finished Epoch[40]: loss = 4.328095 * 50000, metric = 163.68% * 50000 2.069s (24166.3 samples/s);\n",
      "Finished Evaluation [40]: Minibatch[1-5]: metric = 161.74% * 50000;\n",
      "CV Error: 1.6174108203125\n",
      "Finished Epoch[41]: loss = 4.313108 * 50000, metric = 163.77% * 50000 2.021s (24740.2 samples/s);\n",
      "Finished Evaluation [41]: Minibatch[1-5]: metric = 161.41% * 50000;\n",
      "CV Error: 1.61406798828125\n",
      "Finished Epoch[42]: loss = 4.306105 * 50000, metric = 163.34% * 50000 1.810s (27624.3 samples/s);\n",
      "Finished Evaluation [42]: Minibatch[1-5]: metric = 161.34% * 50000;\n",
      "CV Error: 1.6133878125\n",
      "Finished Epoch[43]: loss = 4.307116 * 50000, metric = 163.33% * 50000 1.887s (26497.1 samples/s);\n",
      "Finished Evaluation [43]: Minibatch[1-5]: metric = 161.14% * 50000;\n",
      "CV Error: 1.611439921875\n"
     ]
    },
    {
     "name": "stdout",
     "output_type": "stream",
     "text": [
      "Finished Epoch[44]: loss = 4.276437 * 50000, metric = 163.37% * 50000 1.993s (25087.8 samples/s);\n",
      "Finished Evaluation [44]: Minibatch[1-5]: metric = 160.77% * 50000;\n",
      "CV Error: 1.60773001953125\n",
      "Finished Epoch[45]: loss = 4.291749 * 50000, metric = 163.14% * 50000 1.993s (25087.8 samples/s);\n",
      "Finished Evaluation [45]: Minibatch[1-5]: metric = 160.79% * 50000;\n",
      "CV Error: 1.60793236328125\n",
      "Finished Epoch[46]: loss = 4.280090 * 50000, metric = 162.76% * 50000 1.718s (29103.6 samples/s);\n",
      "Finished Evaluation [46]: Minibatch[1-5]: metric = 160.78% * 50000;\n",
      "CV Error: 1.6078226953125\n",
      "Finished Epoch[47]: loss = 4.297581 * 50000, metric = 163.14% * 50000 1.714s (29171.5 samples/s);\n",
      "Finished Evaluation [47]: Minibatch[1-5]: metric = 160.35% * 50000;\n",
      "CV Error: 1.6034521875\n",
      "Finished Epoch[48]: loss = 4.277650 * 50000, metric = 162.60% * 50000 1.769s (28264.6 samples/s);\n",
      "Finished Evaluation [48]: Minibatch[1-5]: metric = 161.15% * 50000;\n",
      "CV Error: 1.61146208984375\n",
      "Finished Epoch[49]: loss = 4.287752 * 50000, metric = 163.28% * 50000 1.887s (26497.1 samples/s);\n",
      "Finished Evaluation [49]: Minibatch[1-5]: metric = 160.36% * 50000;\n",
      "CV Error: 1.6035823828125\n",
      "Finished Epoch[50]: loss = 4.253729 * 50000, metric = 162.21% * 50000 1.898s (26343.5 samples/s);\n",
      "Finished Evaluation [50]: Minibatch[1-5]: metric = 161.21% * 50000;\n",
      "CV Error: 1.612098125\n",
      "Finished Epoch[51]: loss = 4.288543 * 50000, metric = 163.26% * 50000 1.776s (28153.2 samples/s);\n",
      "Finished Evaluation [51]: Minibatch[1-5]: metric = 160.83% * 50000;\n",
      "CV Error: 1.608330078125\n",
      "Finished Epoch[52]: loss = 4.285209 * 50000, metric = 162.59% * 50000 1.671s (29922.2 samples/s);\n",
      "Finished Evaluation [52]: Minibatch[1-5]: metric = 160.88% * 50000;\n",
      "CV Error: 1.60878083984375\n",
      "Finished Epoch[53]: loss = 4.238338 * 50000, metric = 162.62% * 50000 2.374s (21061.5 samples/s);\n",
      "Finished Evaluation [53]: Minibatch[1-5]: metric = 159.19% * 50000;\n",
      "CV Error: 1.5919227734375\n",
      "Finished Epoch[54]: loss = 4.205541 * 50000, metric = 161.14% * 50000 1.976s (25303.6 samples/s);\n",
      "Finished Evaluation [54]: Minibatch[1-5]: metric = 159.41% * 50000;\n",
      "CV Error: 1.5941315625\n",
      "Finished Epoch[55]: loss = 4.208192 * 50000, metric = 161.06% * 50000 2.226s (22461.8 samples/s);\n",
      "Finished Evaluation [55]: Minibatch[1-5]: metric = 160.21% * 50000;\n",
      "CV Error: 1.602104765625\n",
      "Finished Epoch[56]: loss = 4.240153 * 50000, metric = 162.36% * 50000 1.667s (29994.0 samples/s);\n",
      "Finished Evaluation [56]: Minibatch[1-5]: metric = 160.74% * 50000;\n",
      "CV Error: 1.6074205078125\n",
      "Finished Epoch[57]: loss = 4.260990 * 50000, metric = 162.73% * 50000 1.620s (30864.2 samples/s);\n",
      "Finished Evaluation [57]: Minibatch[1-5]: metric = 159.76% * 50000;\n",
      "CV Error: 1.5975508203125\n",
      "Finished Epoch[58]: loss = 4.234682 * 50000, metric = 161.69% * 50000 1.849s (27041.6 samples/s);\n",
      "Finished Evaluation [58]: Minibatch[1-5]: metric = 159.12% * 50000;\n",
      "CV Error: 1.59123267578125\n",
      "Finished Epoch[59]: loss = 4.195570 * 50000, metric = 160.92% * 50000 1.841s (27159.2 samples/s);\n",
      "Finished Evaluation [59]: Minibatch[1-5]: metric = 159.99% * 50000;\n",
      "CV Error: 1.599880859375\n",
      "Finished Epoch[60]: loss = 4.244140 * 50000, metric = 162.05% * 50000 1.819s (27487.6 samples/s);\n",
      "Finished Evaluation [60]: Minibatch[1-5]: metric = 160.06% * 50000;\n",
      "CV Error: 1.6006455078125\n",
      "Finished Epoch[61]: loss = 4.231585 * 50000, metric = 161.87% * 50000 1.807s (27670.2 samples/s);\n",
      "Finished Evaluation [61]: Minibatch[1-5]: metric = 160.21% * 50000;\n",
      "CV Error: 1.6020690625\n",
      "Finished Epoch[62]: loss = 4.249276 * 50000, metric = 162.28% * 50000 1.878s (26624.1 samples/s);\n",
      "Finished Evaluation [62]: Minibatch[1-5]: metric = 159.49% * 50000;\n",
      "CV Error: 1.59489498046875\n",
      "Finished Epoch[63]: loss = 4.210819 * 50000, metric = 161.38% * 50000 1.954s (25588.5 samples/s);\n",
      "Finished Evaluation [63]: Minibatch[1-5]: metric = 159.77% * 50000;\n",
      "CV Error: 1.597680078125\n",
      "Finished Epoch[64]: loss = 4.207665 * 50000, metric = 161.44% * 50000 1.433s (34891.8 samples/s);\n",
      "Finished Evaluation [64]: Minibatch[1-5]: metric = 158.70% * 50000;\n",
      "CV Error: 1.58701111328125\n",
      "Finished Epoch[65]: loss = 4.164161 * 50000, metric = 160.61% * 50000 1.832s (27292.6 samples/s);\n",
      "Finished Evaluation [65]: Minibatch[1-5]: metric = 158.25% * 50000;\n",
      "CV Error: 1.58249140625\n",
      "Finished Epoch[66]: loss = 4.175018 * 50000, metric = 160.16% * 50000 1.742s (28702.6 samples/s);\n",
      "Finished Evaluation [66]: Minibatch[1-5]: metric = 160.25% * 50000;\n",
      "CV Error: 1.6024709765625\n",
      "Finished Epoch[67]: loss = 4.265610 * 50000, metric = 162.43% * 50000 1.904s (26260.5 samples/s);\n",
      "Finished Evaluation [67]: Minibatch[1-5]: metric = 159.64% * 50000;\n",
      "CV Error: 1.59635248046875\n",
      "Finished Epoch[68]: loss = 4.201598 * 50000, metric = 161.41% * 50000 1.711s (29222.7 samples/s);\n",
      "Finished Evaluation [68]: Minibatch[1-5]: metric = 159.06% * 50000;\n",
      "CV Error: 1.59058072265625\n",
      "Finished Epoch[69]: loss = 4.210373 * 50000, metric = 160.98% * 50000 1.596s (31328.3 samples/s);\n",
      "Finished Evaluation [69]: Minibatch[1-5]: metric = 159.64% * 50000;\n",
      "CV Error: 1.596370234375\n",
      "Finished Epoch[70]: loss = 4.224840 * 50000, metric = 161.60% * 50000 1.761s (28393.0 samples/s);\n",
      "Finished Evaluation [70]: Minibatch[1-5]: metric = 158.37% * 50000;\n",
      "CV Error: 1.58370560546875\n",
      "Finished Epoch[71]: loss = 4.152837 * 50000, metric = 160.30% * 50000 1.816s (27533.0 samples/s);\n",
      "Finished Evaluation [71]: Minibatch[1-5]: metric = 157.85% * 50000;\n",
      "CV Error: 1.57845486328125\n",
      "Finished Epoch[72]: loss = 4.135641 * 50000, metric = 159.74% * 50000 1.890s (26455.0 samples/s);\n",
      "Finished Evaluation [72]: Minibatch[1-5]: metric = 158.44% * 50000;\n",
      "CV Error: 1.5844085546875\n",
      "Finished Epoch[73]: loss = 4.197025 * 50000, metric = 160.67% * 50000 1.688s (29620.9 samples/s);\n",
      "Finished Evaluation [73]: Minibatch[1-5]: metric = 159.72% * 50000;\n",
      "CV Error: 1.59724076171875\n",
      "Finished Epoch[74]: loss = 4.219312 * 50000, metric = 161.56% * 50000 1.761s (28393.0 samples/s);\n",
      "Finished Evaluation [74]: Minibatch[1-5]: metric = 158.96% * 50000;\n",
      "CV Error: 1.58955109375\n",
      "Finished Epoch[75]: loss = 4.171960 * 50000, metric = 160.59% * 50000 1.711s (29222.7 samples/s);\n",
      "Finished Evaluation [75]: Minibatch[1-5]: metric = 158.34% * 50000;\n",
      "CV Error: 1.583385\n",
      "Finished Epoch[76]: loss = 4.186397 * 50000, metric = 160.44% * 50000 1.965s (25445.3 samples/s);\n",
      "Finished Evaluation [76]: Minibatch[1-5]: metric = 158.01% * 50000;\n",
      "CV Error: 1.58014755859375\n",
      "Finished Epoch[77]: loss = 4.115670 * 50000, metric = 159.42% * 50000 1.726s (28968.7 samples/s);\n",
      "Finished Evaluation [77]: Minibatch[1-5]: metric = 158.09% * 50000;\n",
      "CV Error: 1.5809359765625\n",
      "Finished Epoch[78]: loss = 4.161356 * 50000, metric = 160.24% * 50000 1.704s (29342.7 samples/s);\n",
      "Finished Evaluation [78]: Minibatch[1-5]: metric = 158.94% * 50000;\n",
      "CV Error: 1.58935271484375\n",
      "Finished Epoch[79]: loss = 4.188362 * 50000, metric = 160.73% * 50000 1.717s (29120.6 samples/s);\n",
      "Finished Evaluation [79]: Minibatch[1-5]: metric = 158.70% * 50000;\n",
      "CV Error: 1.5869655078125\n",
      "Finished Epoch[80]: loss = 4.180188 * 50000, metric = 160.24% * 50000 1.462s (34199.7 samples/s);\n",
      "Finished Evaluation [80]: Minibatch[1-5]: metric = 158.03% * 50000;\n",
      "CV Error: 1.580275\n",
      "Finished Epoch[81]: loss = 4.139013 * 50000, metric = 159.77% * 50000 1.716s (29137.5 samples/s);\n",
      "Finished Evaluation [81]: Minibatch[1-5]: metric = 158.17% * 50000;\n",
      "CV Error: 1.58173212890625\n",
      "Finished Epoch[82]: loss = 4.138854 * 50000, metric = 159.96% * 50000 1.600s (31250.0 samples/s);\n",
      "Finished Evaluation [82]: Minibatch[1-5]: metric = 157.59% * 50000;\n",
      "CV Error: 1.575889609375\n",
      "Finished Epoch[83]: loss = 4.112135 * 50000, metric = 159.21% * 50000 1.401s (35688.8 samples/s);\n",
      "Finished Evaluation [83]: Minibatch[1-5]: metric = 158.30% * 50000;\n",
      "CV Error: 1.58297994140625\n",
      "Finished Epoch[84]: loss = 4.176048 * 50000, metric = 160.07% * 50000 1.445s (34602.1 samples/s);\n",
      "Finished Evaluation [84]: Minibatch[1-5]: metric = 158.50% * 50000;\n",
      "CV Error: 1.5849687890625\n",
      "Finished Epoch[85]: loss = 4.153751 * 50000, metric = 159.90% * 50000 1.621s (30845.2 samples/s);\n",
      "Finished Evaluation [85]: Minibatch[1-5]: metric = 157.88% * 50000;\n",
      "CV Error: 1.57879443359375\n",
      "Finished Epoch[86]: loss = 4.126243 * 50000, metric = 159.42% * 50000 1.582s (31605.6 samples/s);\n",
      "Finished Evaluation [86]: Minibatch[1-5]: metric = 158.00% * 50000;\n",
      "CV Error: 1.57998283203125\n"
     ]
    },
    {
     "name": "stdout",
     "output_type": "stream",
     "text": [
      "Finished Epoch[87]: loss = 4.153656 * 50000, metric = 159.71% * 50000 1.646s (30376.7 samples/s);\n",
      "Finished Evaluation [87]: Minibatch[1-5]: metric = 157.27% * 50000;\n",
      "CV Error: 1.57269134765625\n",
      "Finished Epoch[88]: loss = 4.091974 * 50000, metric = 158.88% * 50000 1.575s (31746.0 samples/s);\n",
      "Finished Evaluation [88]: Minibatch[1-5]: metric = 157.97% * 50000;\n",
      "CV Error: 1.57972283203125\n",
      "Finished Epoch[89]: loss = 4.162017 * 50000, metric = 159.50% * 50000 1.626s (30750.3 samples/s);\n",
      "Finished Evaluation [89]: Minibatch[1-5]: metric = 158.16% * 50000;\n",
      "CV Error: 1.5816458984375\n",
      "Finished Epoch[90]: loss = 4.140281 * 50000, metric = 159.63% * 50000 1.582s (31605.6 samples/s);\n",
      "Finished Evaluation [90]: Minibatch[1-5]: metric = 158.00% * 50000;\n",
      "CV Error: 1.5799973828125\n",
      "Finished Epoch[91]: loss = 4.119321 * 50000, metric = 159.26% * 50000 1.715s (29154.5 samples/s);\n",
      "Finished Evaluation [91]: Minibatch[1-5]: metric = 158.32% * 50000;\n",
      "CV Error: 1.5831541015625\n",
      "Finished Epoch[92]: loss = 4.133459 * 50000, metric = 159.56% * 50000 1.479s (33806.6 samples/s);\n",
      "Finished Evaluation [92]: Minibatch[1-5]: metric = 156.90% * 50000;\n",
      "CV Error: 1.56904669921875\n",
      "Finished Epoch[93]: loss = 4.092117 * 50000, metric = 158.69% * 50000 1.488s (33602.2 samples/s);\n",
      "Finished Evaluation [93]: Minibatch[1-5]: metric = 157.44% * 50000;\n",
      "CV Error: 1.57438130859375\n",
      "Finished Epoch[94]: loss = 4.123109 * 50000, metric = 159.16% * 50000 1.809s (27639.6 samples/s);\n",
      "Finished Evaluation [94]: Minibatch[1-5]: metric = 157.64% * 50000;\n",
      "CV Error: 1.5764196875\n",
      "Finished Epoch[95]: loss = 4.134751 * 50000, metric = 159.45% * 50000 1.423s (35137.0 samples/s);\n",
      "Finished Evaluation [95]: Minibatch[1-5]: metric = 156.64% * 50000;\n",
      "CV Error: 1.56643103515625\n",
      "Finished Epoch[96]: loss = 4.080732 * 50000, metric = 158.15% * 50000 1.854s (26968.7 samples/s);\n",
      "Finished Evaluation [96]: Minibatch[1-5]: metric = 157.14% * 50000;\n",
      "CV Error: 1.57136361328125\n",
      "Finished Epoch[97]: loss = 4.109487 * 50000, metric = 158.87% * 50000 1.695s (29498.5 samples/s);\n",
      "Finished Evaluation [97]: Minibatch[1-5]: metric = 156.96% * 50000;\n",
      "CV Error: 1.56961556640625\n",
      "Finished Epoch[98]: loss = 4.085113 * 50000, metric = 158.36% * 50000 1.660s (30120.5 samples/s);\n",
      "Finished Evaluation [98]: Minibatch[1-5]: metric = 157.12% * 50000;\n",
      "CV Error: 1.57123109375\n",
      "Finished Epoch[99]: loss = 4.085844 * 50000, metric = 158.70% * 50000 1.829s (27337.3 samples/s);\n",
      "Finished Evaluation [99]: Minibatch[1-5]: metric = 156.83% * 50000;\n",
      "CV Error: 1.5682790625\n",
      "Finished Epoch[100]: loss = 4.111832 * 50000, metric = 158.58% * 50000 1.685s (29673.6 samples/s);\n",
      "Finished Evaluation [100]: Minibatch[1-5]: metric = 157.07% * 50000;\n",
      "CV Error: 1.570728203125\n"
     ]
    }
   ],
   "source": [
    "progress = criterion.train(train_source, \n",
    "                           minibatch_size = minibatch_size,\n",
    "                           model_inputs_to_streams = input_map,\n",
    "                           epoch_size = epoch_size,\n",
    "                           max_epochs = 100, \n",
    "                           parameter_learners = [learner], \n",
    "                           callbacks = [progress_writer, cv_config])#, checkpoint_config])#, test_config])\n"
   ]
  },
  {
   "cell_type": "code",
   "execution_count": 26,
   "metadata": {},
   "outputs": [],
   "source": [
    "#inf_model = C.softmax(model)"
   ]
  },
  {
   "cell_type": "code",
   "execution_count": 27,
   "metadata": {},
   "outputs": [],
   "source": [
    "model.save(model_path)"
   ]
  },
  {
   "cell_type": "code",
   "execution_count": 28,
   "metadata": {},
   "outputs": [
    {
     "data": {
      "text/plain": [
       "'.\\\\outputs\\\\model.dnn'"
      ]
     },
     "execution_count": 28,
     "metadata": {},
     "output_type": "execute_result"
    }
   ],
   "source": [
    "model_path"
   ]
  },
  {
   "cell_type": "code",
   "execution_count": null,
   "metadata": {},
   "outputs": [],
   "source": []
  }
 ],
 "metadata": {
  "kernelspec": {
   "display_name": "BikeShareSample local",
   "language": "python",
   "name": "bikesharesample_local"
  },
  "language_info": {
   "codemirror_mode": {
    "name": "ipython",
    "version": 3
   },
   "file_extension": ".py",
   "mimetype": "text/x-python",
   "name": "python",
   "nbconvert_exporter": "python",
   "pygments_lexer": "ipython3",
   "version": "3.5.2"
  }
 },
 "nbformat": 4,
 "nbformat_minor": 2
}
