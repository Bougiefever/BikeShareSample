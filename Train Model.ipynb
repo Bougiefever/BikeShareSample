{
 "cells": [
  {
   "cell_type": "code",
   "execution_count": 1,
   "metadata": {},
   "outputs": [],
   "source": [
    "# Use the Azure Machine Learning data collector to log various metrics\n",
    "from azureml.logging import get_azureml_logger\n",
    "logger = get_azureml_logger()"
   ]
  },
  {
   "cell_type": "code",
   "execution_count": 2,
   "metadata": {},
   "outputs": [
    {
     "name": "stdout",
     "output_type": "stream",
     "text": [
      "History logging enabled\n"
     ]
    }
   ],
   "source": [
    "# Use Azure Machine Learning history magic to control history collection\n",
    "# History is off by default, options are \"on\", \"off\", or \"show\"\n",
    "%azureml history on"
   ]
  },
  {
   "cell_type": "code",
   "execution_count": 3,
   "metadata": {},
   "outputs": [],
   "source": [
    "from __future__ import print_function\n",
    "from azure.storage.blob import BlockBlobService\n",
    "import os\n",
    "import cntk as C\n",
    "import numpy as np\n",
    "import scipy.sparse\n",
    "import sys\n",
    "import glob"
   ]
  },
  {
   "cell_type": "code",
   "execution_count": 4,
   "metadata": {},
   "outputs": [],
   "source": [
    "#minibatch size is size of single minibatch.  To calc optimal size:\n",
    "#mem = memory - neural net params * float32 size\n",
    "#size = mem / (num_features * float32 size)\n",
    "minibatch_size = 10000\n",
    "#epoch size is virtual concept of whole data set.\n",
    "epoch_size = 50000\n",
    "num_features = 212\n",
    "\n",
    "#sweep is a full pass through the data set.\n",
    "max_sweeps = 1000\n",
    "\n",
    "num_outputs = 58"
   ]
  },
  {
   "cell_type": "code",
   "execution_count": 5,
   "metadata": {},
   "outputs": [],
   "source": [
    "# Define the task.\n",
    "x = C.input_variable(num_features)\n",
    "y = C.input_variable(num_outputs, is_sparse=True)\n",
    "base_container = 'data-files'\n",
    "train_folder = 'train_ctf'\n",
    "test_folder = 'test_ctf'\n",
    "base_local = '/data/bikeshare/'\n",
    "model_path = os.path.join('.', 'outputs', 'model.dnn')\n",
    "blob_acct_name = 'kpmgstorage1'\n",
    "blob_acct_key = '2+BXi305SN45G9yyhykvp7Ij6KYka9W/WvRH4aG5fOuK+9Fenk5Yhg6X6lUMrxjpxE4wKxXyk9NYptzUpZYQkQ=='\n"
   ]
  },
  {
   "cell_type": "code",
   "execution_count": 6,
   "metadata": {},
   "outputs": [],
   "source": [
    "final_train_file = base_local + train_folder + \"/\" + 'train_complete.ctf'\n",
    "final_test_file = base_local + test_folder + \"/\" + 'test_complete.ctf'"
   ]
  },
  {
   "cell_type": "code",
   "execution_count": 7,
   "metadata": {},
   "outputs": [
    {
     "data": {
      "text/plain": [
       "'/data/bikeshare/train_ctf/train_complete.ctf'"
      ]
     },
     "execution_count": 7,
     "metadata": {},
     "output_type": "execute_result"
    }
   ],
   "source": [
    "final_train_file\n"
   ]
  },
  {
   "cell_type": "code",
   "execution_count": 8,
   "metadata": {},
   "outputs": [],
   "source": [
    "#Download the train data into our docker container\n",
    "bbs = BlockBlobService(account_name=blob_acct_name, account_key=blob_acct_key)"
   ]
  },
  {
   "cell_type": "code",
   "execution_count": 9,
   "metadata": {},
   "outputs": [],
   "source": [
    "def download_and_merge_ctf(remote_base, local_base, relative, output_file_name):\n",
    "    generator = bbs.list_blobs(remote_base)\n",
    "    for blob in generator:\n",
    "        tokens = blob.name.split('/')\n",
    "        if(tokens[0] == relative\n",
    "          and len(tokens) > 1\n",
    "          and tokens[1] != \"_SUCCESS\"):\n",
    "            if not os.path.exists(local_base + relative):\n",
    "                os.makedirs(local_base + relative)\n",
    "            bbs.get_blob_to_path(remote_base, blob.name, local_base + '/' + blob.name + '.ctf')\n",
    "\n",
    "\n",
    "    read_files = glob.glob(local_base + relative + \"/*.ctf\")\n",
    "    with open(output_file_name, \"wb\") as outfile:\n",
    "        for f in read_files:\n",
    "            with open(f, \"rb\") as infile:\n",
    "                outfile.write(infile.read())"
   ]
  },
  {
   "cell_type": "code",
   "execution_count": 10,
   "metadata": {},
   "outputs": [],
   "source": [
    "download_and_merge_ctf(base_container, base_local, train_folder, final_train_file)\n",
    "#download_and_merge_ctf(base_container, base_local, test_folder, 'test_complete.ctf')"
   ]
  },
  {
   "cell_type": "code",
   "execution_count": 11,
   "metadata": {},
   "outputs": [
    {
     "data": {
      "text/plain": [
       "'/data/bikeshare/train_ctf/train_complete.ctf'"
      ]
     },
     "execution_count": 11,
     "metadata": {},
     "output_type": "execute_result"
    }
   ],
   "source": [
    "final_train_file"
   ]
  },
  {
   "cell_type": "code",
   "execution_count": 12,
   "metadata": {},
   "outputs": [],
   "source": [
    "# Read a COMPOSITE reader to read data from both the image map and CTF files\n",
    "def create_minibatch_source(ctf_file, is_training, num_outputs):\n",
    "    \n",
    "    # create CTF DESERIALIZER for CTF file\n",
    "    data_source = C.io.CTFDeserializer(ctf_file, C.io.StreamDefs(\n",
    "        features = C.io.StreamDef(field=\"features\", shape=num_features),\n",
    "        label = C.io.StreamDef(field=\"label\", shape=num_outputs)))\n",
    "\n",
    "    # create a minibatch source by compositing them together \n",
    "    return C.io.MinibatchSource([data_source], max_sweeps=max_sweeps, randomize=is_training)"
   ]
  },
  {
   "cell_type": "code",
   "execution_count": 13,
   "metadata": {},
   "outputs": [],
   "source": [
    "train_source = create_minibatch_source(final_train_file, True, num_outputs)\n",
    "#test_source = create_minibatch_source(final_test_file, False, num_outputs)"
   ]
  },
  {
   "cell_type": "code",
   "execution_count": 14,
   "metadata": {},
   "outputs": [],
   "source": [
    "input_map = {    \n",
    "    x : train_source.streams.features,\n",
    "    y : train_source.streams.label\n",
    "}\n"
   ]
  },
  {
   "cell_type": "code",
   "execution_count": 15,
   "metadata": {},
   "outputs": [],
   "source": [
    "num_neurons = 100\n",
    "def create_model(x):\n",
    "    with C.layers.default_options(init = C.layers.glorot_uniform(), activation = C.relu):            \n",
    "            h = C.layers.Dense(num_neurons, name=\"first\")(x)\n",
    "            h = C.layers.Dense(num_neurons, name=\"second\")(h)\n",
    "            h = C.layers.Dense(num_neurons, name=\"third\")(h)\n",
    "            h = C.layers.Dropout(dropout_rate=0.5)(h)\n",
    "            p = C.layers.Dense(num_outputs, activation = None, name=\"prediction\")(h)         \n",
    "            return p"
   ]
  },
  {
   "cell_type": "code",
   "execution_count": 16,
   "metadata": {},
   "outputs": [],
   "source": [
    "model = create_model(x)"
   ]
  },
  {
   "cell_type": "code",
   "execution_count": 17,
   "metadata": {},
   "outputs": [],
   "source": [
    "# loss function\n",
    "loss = C.cross_entropy_with_softmax(model, y)"
   ]
  },
  {
   "cell_type": "code",
   "execution_count": 18,
   "metadata": {},
   "outputs": [],
   "source": [
    "#error metric function\n",
    "error = C.classification_error(model, y)"
   ]
  },
  {
   "cell_type": "code",
   "execution_count": 19,
   "metadata": {},
   "outputs": [],
   "source": [
    "#combine error and loss for training usage (AKA Criterion function)\n",
    "criterion = C.combine([loss, error])"
   ]
  },
  {
   "cell_type": "code",
   "execution_count": 20,
   "metadata": {},
   "outputs": [],
   "source": [
    "lr_schedule = [0.01]*100 + [0.001]*100 + [0.0001]\n",
    "learner = C.sgd(model.parameters, lr_schedule, epoch_size=epoch_size)"
   ]
  },
  {
   "cell_type": "code",
   "execution_count": 21,
   "metadata": {},
   "outputs": [],
   "source": [
    "#frequency is defined by number of samples\n",
    "progress_writer = C.logging.ProgressPrinter(freq=epoch_size)"
   ]
  },
  {
   "cell_type": "code",
   "execution_count": 22,
   "metadata": {},
   "outputs": [],
   "source": [
    "#frequence is by number of samples\n",
    "checkpoint_config = C.CheckpointConfig(filename=model_path, frequency=(epoch_size * 10), restore = False)\n"
   ]
  },
  {
   "cell_type": "code",
   "execution_count": 23,
   "metadata": {},
   "outputs": [],
   "source": [
    "#test_config = C.TestConfig(test_source)\n",
    "def custom_cv_func(index, average_error, cv_num_samples, cv_num_minibatches):\n",
    "    print(\"CV Error: \" + str(average_error))\n",
    "    logger.log(\"Error\", average_error)\n",
    "    return True"
   ]
  },
  {
   "cell_type": "code",
   "execution_count": 24,
   "metadata": {},
   "outputs": [],
   "source": [
    "cv_config = C.CrossValidationConfig(minibatch_source = train_source,\n",
    "                                    minibatch_size = minibatch_size,\n",
    "                                    model_inputs_to_streams = input_map,\n",
    "                                    frequency = epoch_size,\n",
    "                                    max_samples = epoch_size,\n",
    "                                    callback=custom_cv_func)\n"
   ]
  },
  {
   "cell_type": "code",
   "execution_count": 25,
   "metadata": {},
   "outputs": [
    {
     "name": "stdout",
     "output_type": "stream",
     "text": [
      "Learning rate per minibatch: 0.01\n",
      "Finished Epoch[1]: loss = 4.056413 * 50000, metric = 97.92% * 50000 8.304s (6021.2 samples/s);\n",
      "Finished Evaluation [1]: Minibatch[1-5]: metric = 97.65% * 50000;\n",
      "CV Error: 0.9765\n",
      "Finished Epoch[2]: loss = 4.040617 * 50000, metric = 97.08% * 50000 2.424s (20627.1 samples/s);\n",
      "Finished Evaluation [2]: Minibatch[1-5]: metric = 96.51% * 50000;\n",
      "CV Error: 0.96512\n",
      "Finished Epoch[3]: loss = 4.025062 * 50000, metric = 95.73% * 50000 2.118s (23607.2 samples/s);\n",
      "Finished Evaluation [3]: Minibatch[1-5]: metric = 93.85% * 50000;\n",
      "CV Error: 0.93854\n",
      "Finished Epoch[4]: loss = 4.010050 * 50000, metric = 93.71% * 50000 4.031s (12403.9 samples/s);\n",
      "Finished Evaluation [4]: Minibatch[1-5]: metric = 89.12% * 50000;\n",
      "CV Error: 0.89122\n",
      "Finished Epoch[5]: loss = 3.994584 * 50000, metric = 90.66% * 50000 2.724s (18355.4 samples/s);\n",
      "Finished Evaluation [5]: Minibatch[1-5]: metric = 83.52% * 50000;\n",
      "CV Error: 0.83516\n",
      "Finished Epoch[6]: loss = 3.978695 * 50000, metric = 87.18% * 50000 2.157s (23180.3 samples/s);\n",
      "Finished Evaluation [6]: Minibatch[1-5]: metric = 78.86% * 50000;\n",
      "CV Error: 0.78856\n",
      "Finished Epoch[7]: loss = 3.963835 * 50000, metric = 83.77% * 50000 2.363s (21159.5 samples/s);\n",
      "Finished Evaluation [7]: Minibatch[1-5]: metric = 74.91% * 50000;\n",
      "CV Error: 0.74908\n",
      "Finished Epoch[8]: loss = 3.947862 * 50000, metric = 80.13% * 50000 2.306s (21682.6 samples/s);\n",
      "Finished Evaluation [8]: Minibatch[1-5]: metric = 72.74% * 50000;\n",
      "CV Error: 0.7274\n",
      "Finished Epoch[9]: loss = 3.932090 * 50000, metric = 77.42% * 50000 2.464s (20292.2 samples/s);\n",
      "Finished Evaluation [9]: Minibatch[1-5]: metric = 71.04% * 50000;\n",
      "CV Error: 0.71042\n",
      "Finished Epoch[10]: loss = 3.917109 * 50000, metric = 75.18% * 50000 2.679s (18663.7 samples/s);\n",
      "Finished Evaluation [10]: Minibatch[1-5]: metric = 69.89% * 50000;\n",
      "CV Error: 0.69886\n",
      "Finished Epoch[11]: loss = 3.898988 * 50000, metric = 73.15% * 50000 3.090s (16181.2 samples/s);\n",
      "Finished Evaluation [11]: Minibatch[1-5]: metric = 69.53% * 50000;\n",
      "CV Error: 0.69532\n",
      "Finished Epoch[12]: loss = 3.884446 * 50000, metric = 72.33% * 50000 3.077s (16249.6 samples/s);\n",
      "Finished Evaluation [12]: Minibatch[1-5]: metric = 68.97% * 50000;\n",
      "CV Error: 0.6897\n",
      "Finished Epoch[13]: loss = 3.866363 * 50000, metric = 71.35% * 50000 2.837s (17624.3 samples/s);\n",
      "Finished Evaluation [13]: Minibatch[1-5]: metric = 68.60% * 50000;\n",
      "CV Error: 0.68596\n",
      "Finished Epoch[14]: loss = 3.850317 * 50000, metric = 70.96% * 50000 2.332s (21440.8 samples/s);\n",
      "Finished Evaluation [14]: Minibatch[1-5]: metric = 68.21% * 50000;\n",
      "CV Error: 0.68214\n",
      "Finished Epoch[15]: loss = 3.832653 * 50000, metric = 70.31% * 50000 2.182s (22914.8 samples/s);\n",
      "Finished Evaluation [15]: Minibatch[1-5]: metric = 67.76% * 50000;\n",
      "CV Error: 0.67762\n",
      "Finished Epoch[16]: loss = 3.813014 * 50000, metric = 69.83% * 50000 2.543s (19661.8 samples/s);\n",
      "Finished Evaluation [16]: Minibatch[1-5]: metric = 67.73% * 50000;\n",
      "CV Error: 0.67728\n",
      "Finished Epoch[17]: loss = 3.795111 * 50000, metric = 69.48% * 50000 2.532s (19747.2 samples/s);\n",
      "Finished Evaluation [17]: Minibatch[1-5]: metric = 67.69% * 50000;\n",
      "CV Error: 0.6769\n",
      "Finished Epoch[18]: loss = 3.775492 * 50000, metric = 69.27% * 50000 2.267s (22055.6 samples/s);\n",
      "Finished Evaluation [18]: Minibatch[1-5]: metric = 67.43% * 50000;\n",
      "CV Error: 0.67432\n",
      "Finished Epoch[19]: loss = 3.755568 * 50000, metric = 68.82% * 50000 2.141s (23353.6 samples/s);\n",
      "Finished Evaluation [19]: Minibatch[1-5]: metric = 67.43% * 50000;\n",
      "CV Error: 0.67434\n",
      "Finished Epoch[20]: loss = 3.733827 * 50000, metric = 68.71% * 50000 2.474s (20210.2 samples/s);\n",
      "Finished Evaluation [20]: Minibatch[1-5]: metric = 67.44% * 50000;\n",
      "CV Error: 0.67438\n",
      "Finished Epoch[21]: loss = 3.712118 * 50000, metric = 68.42% * 50000 2.693s (18566.7 samples/s);\n",
      "Finished Evaluation [21]: Minibatch[1-5]: metric = 67.79% * 50000;\n",
      "CV Error: 0.67794\n",
      "Finished Epoch[22]: loss = 3.692180 * 50000, metric = 68.84% * 50000 2.130s (23474.2 samples/s);\n",
      "Finished Evaluation [22]: Minibatch[1-5]: metric = 67.37% * 50000;\n",
      "CV Error: 0.67372\n",
      "Finished Epoch[23]: loss = 3.664862 * 50000, metric = 68.27% * 50000 2.177s (22967.4 samples/s);\n",
      "Finished Evaluation [23]: Minibatch[1-5]: metric = 67.24% * 50000;\n",
      "CV Error: 0.67244\n",
      "Finished Epoch[24]: loss = 3.641738 * 50000, metric = 68.06% * 50000 2.148s (23277.5 samples/s);\n",
      "Finished Evaluation [24]: Minibatch[1-5]: metric = 67.66% * 50000;\n",
      "CV Error: 0.67664\n",
      "Finished Epoch[25]: loss = 3.616290 * 50000, metric = 68.36% * 50000 2.378s (21026.1 samples/s);\n",
      "Finished Evaluation [25]: Minibatch[1-5]: metric = 67.44% * 50000;\n",
      "CV Error: 0.67438\n",
      "Finished Epoch[26]: loss = 3.588531 * 50000, metric = 67.93% * 50000 2.476s (20193.9 samples/s);\n",
      "Finished Evaluation [26]: Minibatch[1-5]: metric = 67.59% * 50000;\n",
      "CV Error: 0.6759\n",
      "Finished Epoch[27]: loss = 3.564082 * 50000, metric = 68.07% * 50000 2.322s (21533.2 samples/s);\n",
      "Finished Evaluation [27]: Minibatch[1-5]: metric = 67.24% * 50000;\n",
      "CV Error: 0.6724\n",
      "Finished Epoch[28]: loss = 3.533539 * 50000, metric = 67.60% * 50000 2.563s (19508.4 samples/s);\n",
      "Finished Evaluation [28]: Minibatch[1-5]: metric = 67.34% * 50000;\n",
      "CV Error: 0.6734\n",
      "Finished Epoch[29]: loss = 3.501123 * 50000, metric = 67.70% * 50000 2.518s (19857.0 samples/s);\n",
      "Finished Evaluation [29]: Minibatch[1-5]: metric = 67.80% * 50000;\n",
      "CV Error: 0.67796\n",
      "Finished Epoch[30]: loss = 3.471265 * 50000, metric = 68.01% * 50000 2.658s (18811.1 samples/s);\n",
      "Finished Evaluation [30]: Minibatch[1-5]: metric = 67.78% * 50000;\n",
      "CV Error: 0.6778\n",
      "Finished Epoch[31]: loss = 3.439584 * 50000, metric = 67.95% * 50000 2.362s (21168.5 samples/s);\n",
      "Finished Evaluation [31]: Minibatch[1-5]: metric = 67.39% * 50000;\n",
      "CV Error: 0.67388\n",
      "Finished Epoch[32]: loss = 3.402796 * 50000, metric = 67.62% * 50000 2.680s (18656.7 samples/s);\n",
      "Finished Evaluation [32]: Minibatch[1-5]: metric = 67.58% * 50000;\n",
      "CV Error: 0.67576\n",
      "Finished Epoch[33]: loss = 3.366812 * 50000, metric = 67.82% * 50000 2.628s (19025.9 samples/s);\n",
      "Finished Evaluation [33]: Minibatch[1-5]: metric = 67.68% * 50000;\n",
      "CV Error: 0.6768\n",
      "Finished Epoch[34]: loss = 3.334564 * 50000, metric = 67.89% * 50000 2.531s (19755.0 samples/s);\n",
      "Finished Evaluation [34]: Minibatch[1-5]: metric = 67.41% * 50000;\n",
      "CV Error: 0.67412\n",
      "Finished Epoch[35]: loss = 3.288802 * 50000, metric = 67.54% * 50000 2.605s (19193.9 samples/s);\n",
      "Finished Evaluation [35]: Minibatch[1-5]: metric = 67.52% * 50000;\n",
      "CV Error: 0.67522\n",
      "Finished Epoch[36]: loss = 3.248956 * 50000, metric = 67.62% * 50000 2.846s (17568.5 samples/s);\n",
      "Finished Evaluation [36]: Minibatch[1-5]: metric = 67.56% * 50000;\n",
      "CV Error: 0.67558\n",
      "Finished Epoch[37]: loss = 3.209939 * 50000, metric = 67.66% * 50000 2.308s (21663.8 samples/s);\n",
      "Finished Evaluation [37]: Minibatch[1-5]: metric = 67.54% * 50000;\n",
      "CV Error: 0.6754\n",
      "Finished Epoch[38]: loss = 3.167470 * 50000, metric = 67.60% * 50000 2.406s (20781.4 samples/s);\n",
      "Finished Evaluation [38]: Minibatch[1-5]: metric = 67.28% * 50000;\n",
      "CV Error: 0.67278\n",
      "Finished Epoch[39]: loss = 3.121847 * 50000, metric = 67.43% * 50000 2.436s (20525.5 samples/s);\n",
      "Finished Evaluation [39]: Minibatch[1-5]: metric = 67.57% * 50000;\n",
      "CV Error: 0.67574\n",
      "Finished Epoch[40]: loss = 3.081833 * 50000, metric = 67.67% * 50000 2.360s (21186.4 samples/s);\n",
      "Finished Evaluation [40]: Minibatch[1-5]: metric = 67.75% * 50000;\n",
      "CV Error: 0.67752\n",
      "Finished Epoch[41]: loss = 3.046014 * 50000, metric = 67.82% * 50000 2.215s (22573.4 samples/s);\n",
      "Finished Evaluation [41]: Minibatch[1-5]: metric = 67.48% * 50000;\n",
      "CV Error: 0.67484\n",
      "Finished Epoch[42]: loss = 3.006383 * 50000, metric = 67.60% * 50000 2.117s (23618.3 samples/s);\n",
      "Finished Evaluation [42]: Minibatch[1-5]: metric = 67.46% * 50000;\n",
      "CV Error: 0.67456\n",
      "Finished Epoch[43]: loss = 2.961803 * 50000, metric = 67.52% * 50000 2.140s (23364.5 samples/s);\n",
      "Finished Evaluation [43]: Minibatch[1-5]: metric = 67.50% * 50000;\n",
      "CV Error: 0.67498\n",
      "Finished Epoch[44]: loss = 2.924936 * 50000, metric = 67.60% * 50000 2.273s (21997.4 samples/s);\n",
      "Finished Evaluation [44]: Minibatch[1-5]: metric = 67.03% * 50000;\n",
      "CV Error: 0.67032\n",
      "Finished Epoch[45]: loss = 2.883064 * 50000, metric = 67.12% * 50000 2.387s (20946.8 samples/s);\n",
      "Finished Evaluation [45]: Minibatch[1-5]: metric = 67.51% * 50000;\n",
      "CV Error: 0.67512\n"
     ]
    },
    {
     "name": "stdout",
     "output_type": "stream",
     "text": [
      "Finished Epoch[46]: loss = 2.858915 * 50000, metric = 67.57% * 50000 2.530s (19762.8 samples/s);\n",
      "Finished Evaluation [46]: Minibatch[1-5]: metric = 67.78% * 50000;\n",
      "CV Error: 0.6778\n",
      "Finished Epoch[47]: loss = 2.836153 * 50000, metric = 67.86% * 50000 2.198s (22748.0 samples/s);\n",
      "Finished Evaluation [47]: Minibatch[1-5]: metric = 67.79% * 50000;\n",
      "CV Error: 0.67794\n",
      "Finished Epoch[48]: loss = 2.813821 * 50000, metric = 67.82% * 50000 2.250s (22222.2 samples/s);\n",
      "Finished Evaluation [48]: Minibatch[1-5]: metric = 67.33% * 50000;\n",
      "CV Error: 0.67328\n",
      "Finished Epoch[49]: loss = 2.775873 * 50000, metric = 67.43% * 50000 2.346s (21312.9 samples/s);\n",
      "Finished Evaluation [49]: Minibatch[1-5]: metric = 67.36% * 50000;\n",
      "CV Error: 0.67358\n",
      "Finished Epoch[50]: loss = 2.761226 * 50000, metric = 67.50% * 50000 2.919s (17129.2 samples/s);\n",
      "Finished Evaluation [50]: Minibatch[1-5]: metric = 67.24% * 50000;\n",
      "CV Error: 0.67242\n",
      "Finished Epoch[51]: loss = 2.735036 * 50000, metric = 67.37% * 50000 2.842s (17593.2 samples/s);\n",
      "Finished Evaluation [51]: Minibatch[1-5]: metric = 67.59% * 50000;\n",
      "CV Error: 0.67586\n",
      "Finished Epoch[52]: loss = 2.720771 * 50000, metric = 67.79% * 50000 2.571s (19447.7 samples/s);\n",
      "Finished Evaluation [52]: Minibatch[1-5]: metric = 67.53% * 50000;\n",
      "CV Error: 0.67534\n",
      "Finished Epoch[53]: loss = 2.700572 * 50000, metric = 67.70% * 50000 2.744s (18221.6 samples/s);\n",
      "Finished Evaluation [53]: Minibatch[1-5]: metric = 67.93% * 50000;\n",
      "CV Error: 0.67934\n",
      "Finished Epoch[54]: loss = 2.692841 * 50000, metric = 68.19% * 50000 2.413s (20721.1 samples/s);\n",
      "Finished Evaluation [54]: Minibatch[1-5]: metric = 67.37% * 50000;\n",
      "CV Error: 0.67374\n",
      "Finished Epoch[55]: loss = 2.662020 * 50000, metric = 67.59% * 50000 3.020s (16556.3 samples/s);\n",
      "Finished Evaluation [55]: Minibatch[1-5]: metric = 67.54% * 50000;\n",
      "CV Error: 0.67536\n",
      "Finished Epoch[56]: loss = 2.657532 * 50000, metric = 67.87% * 50000 2.416s (20695.4 samples/s);\n",
      "Finished Evaluation [56]: Minibatch[1-5]: metric = 67.21% * 50000;\n",
      "CV Error: 0.67206\n",
      "Finished Epoch[57]: loss = 2.640666 * 50000, metric = 67.57% * 50000 2.552s (19592.5 samples/s);\n",
      "Finished Evaluation [57]: Minibatch[1-5]: metric = 67.65% * 50000;\n",
      "CV Error: 0.67652\n",
      "Finished Epoch[58]: loss = 2.632118 * 50000, metric = 68.04% * 50000 2.996s (16688.9 samples/s);\n",
      "Finished Evaluation [58]: Minibatch[1-5]: metric = 67.57% * 50000;\n",
      "CV Error: 0.67572\n",
      "Finished Epoch[59]: loss = 2.619940 * 50000, metric = 67.96% * 50000 2.206s (22665.5 samples/s);\n",
      "Finished Evaluation [59]: Minibatch[1-5]: metric = 67.51% * 50000;\n",
      "CV Error: 0.67512\n",
      "Finished Epoch[60]: loss = 2.598346 * 50000, metric = 68.12% * 50000 2.320s (21551.7 samples/s);\n",
      "Finished Evaluation [60]: Minibatch[1-5]: metric = 67.46% * 50000;\n",
      "CV Error: 0.67456\n",
      "Finished Epoch[61]: loss = 2.596955 * 50000, metric = 68.18% * 50000 2.104s (23764.3 samples/s);\n",
      "Finished Evaluation [61]: Minibatch[1-5]: metric = 67.64% * 50000;\n",
      "CV Error: 0.67638\n",
      "Finished Epoch[62]: loss = 2.576925 * 50000, metric = 68.23% * 50000 2.328s (21477.7 samples/s);\n",
      "Finished Evaluation [62]: Minibatch[1-5]: metric = 67.49% * 50000;\n",
      "CV Error: 0.6749\n",
      "Finished Epoch[63]: loss = 2.568992 * 50000, metric = 68.18% * 50000 2.444s (20458.3 samples/s);\n",
      "Finished Evaluation [63]: Minibatch[1-5]: metric = 67.62% * 50000;\n",
      "CV Error: 0.67616\n",
      "Finished Epoch[64]: loss = 2.557923 * 50000, metric = 68.32% * 50000 2.306s (21682.6 samples/s);\n",
      "Finished Evaluation [64]: Minibatch[1-5]: metric = 67.54% * 50000;\n",
      "CV Error: 0.67536\n",
      "Finished Epoch[65]: loss = 2.550327 * 50000, metric = 68.26% * 50000 2.117s (23618.3 samples/s);\n",
      "Finished Evaluation [65]: Minibatch[1-5]: metric = 67.34% * 50000;\n",
      "CV Error: 0.67336\n",
      "Finished Epoch[66]: loss = 2.534081 * 50000, metric = 68.25% * 50000 2.240s (22321.4 samples/s);\n",
      "Finished Evaluation [66]: Minibatch[1-5]: metric = 67.50% * 50000;\n",
      "CV Error: 0.67498\n",
      "Finished Epoch[67]: loss = 2.539882 * 50000, metric = 68.49% * 50000 2.578s (19394.9 samples/s);\n",
      "Finished Evaluation [67]: Minibatch[1-5]: metric = 67.61% * 50000;\n",
      "CV Error: 0.67614\n",
      "Finished Epoch[68]: loss = 2.522148 * 50000, metric = 68.52% * 50000 2.290s (21834.1 samples/s);\n",
      "Finished Evaluation [68]: Minibatch[1-5]: metric = 67.70% * 50000;\n",
      "CV Error: 0.67702\n",
      "Finished Epoch[69]: loss = 2.521648 * 50000, metric = 68.79% * 50000 2.277s (21958.7 samples/s);\n",
      "Finished Evaluation [69]: Minibatch[1-5]: metric = 67.34% * 50000;\n",
      "CV Error: 0.6734\n",
      "Finished Epoch[70]: loss = 2.498833 * 50000, metric = 68.34% * 50000 2.249s (22232.1 samples/s);\n",
      "Finished Evaluation [70]: Minibatch[1-5]: metric = 67.27% * 50000;\n",
      "CV Error: 0.67274\n",
      "Finished Epoch[71]: loss = 2.494651 * 50000, metric = 68.48% * 50000 2.659s (18804.1 samples/s);\n",
      "Finished Evaluation [71]: Minibatch[1-5]: metric = 67.39% * 50000;\n",
      "CV Error: 0.67392\n",
      "Finished Epoch[72]: loss = 2.486562 * 50000, metric = 68.50% * 50000 2.387s (20946.8 samples/s);\n",
      "Finished Evaluation [72]: Minibatch[1-5]: metric = 67.46% * 50000;\n",
      "CV Error: 0.6746\n",
      "Finished Epoch[73]: loss = 2.490191 * 50000, metric = 68.62% * 50000 2.199s (22737.6 samples/s);\n",
      "Finished Evaluation [73]: Minibatch[1-5]: metric = 67.56% * 50000;\n",
      "CV Error: 0.67564\n",
      "Finished Epoch[74]: loss = 2.476647 * 50000, metric = 68.62% * 50000 2.218s (22542.8 samples/s);\n",
      "Finished Evaluation [74]: Minibatch[1-5]: metric = 67.65% * 50000;\n",
      "CV Error: 0.6765\n",
      "Finished Epoch[75]: loss = 2.475638 * 50000, metric = 68.72% * 50000 2.341s (21358.4 samples/s);\n",
      "Finished Evaluation [75]: Minibatch[1-5]: metric = 67.44% * 50000;\n",
      "CV Error: 0.67442\n",
      "Finished Epoch[76]: loss = 2.468203 * 50000, metric = 68.60% * 50000 2.636s (18968.1 samples/s);\n",
      "Finished Evaluation [76]: Minibatch[1-5]: metric = 67.30% * 50000;\n",
      "CV Error: 0.67302\n",
      "Finished Epoch[77]: loss = 2.456188 * 50000, metric = 68.46% * 50000 2.164s (23105.4 samples/s);\n",
      "Finished Evaluation [77]: Minibatch[1-5]: metric = 67.84% * 50000;\n",
      "CV Error: 0.67844\n",
      "Finished Epoch[78]: loss = 2.463081 * 50000, metric = 68.97% * 50000 2.485s (20120.7 samples/s);\n",
      "Finished Evaluation [78]: Minibatch[1-5]: metric = 67.55% * 50000;\n",
      "CV Error: 0.67554\n",
      "Finished Epoch[79]: loss = 2.454425 * 50000, metric = 68.94% * 50000 2.369s (21106.0 samples/s);\n",
      "Finished Evaluation [79]: Minibatch[1-5]: metric = 67.33% * 50000;\n",
      "CV Error: 0.67334\n",
      "Finished Epoch[80]: loss = 2.441157 * 50000, metric = 68.66% * 50000 2.589s (19312.5 samples/s);\n",
      "Finished Evaluation [80]: Minibatch[1-5]: metric = 67.35% * 50000;\n",
      "CV Error: 0.6735\n",
      "Finished Epoch[81]: loss = 2.444066 * 50000, metric = 68.79% * 50000 2.598s (19245.6 samples/s);\n",
      "Finished Evaluation [81]: Minibatch[1-5]: metric = 67.35% * 50000;\n",
      "CV Error: 0.67348\n",
      "Finished Epoch[82]: loss = 2.434121 * 50000, metric = 68.71% * 50000 3.132s (15964.2 samples/s);\n",
      "Finished Evaluation [82]: Minibatch[1-5]: metric = 67.79% * 50000;\n",
      "CV Error: 0.67786\n",
      "Finished Epoch[83]: loss = 2.437698 * 50000, metric = 68.82% * 50000 2.464s (20292.2 samples/s);\n",
      "Finished Evaluation [83]: Minibatch[1-5]: metric = 67.33% * 50000;\n",
      "CV Error: 0.67332\n",
      "Finished Epoch[84]: loss = 2.426875 * 50000, metric = 68.82% * 50000 2.781s (17979.1 samples/s);\n",
      "Finished Evaluation [84]: Minibatch[1-5]: metric = 67.56% * 50000;\n",
      "CV Error: 0.67564\n",
      "Finished Epoch[85]: loss = 2.433565 * 50000, metric = 68.89% * 50000 2.644s (18910.7 samples/s);\n",
      "Finished Evaluation [85]: Minibatch[1-5]: metric = 67.50% * 50000;\n",
      "CV Error: 0.67502\n",
      "Finished Epoch[86]: loss = 2.423901 * 50000, metric = 68.89% * 50000 2.439s (20500.2 samples/s);\n",
      "Finished Evaluation [86]: Minibatch[1-5]: metric = 67.86% * 50000;\n",
      "CV Error: 0.67856\n",
      "Finished Epoch[87]: loss = 2.426977 * 50000, metric = 69.18% * 50000 2.278s (21949.1 samples/s);\n",
      "Finished Evaluation [87]: Minibatch[1-5]: metric = 67.46% * 50000;\n",
      "CV Error: 0.67456\n",
      "Finished Epoch[88]: loss = 2.413726 * 50000, metric = 68.75% * 50000 2.084s (23992.3 samples/s);\n",
      "Finished Evaluation [88]: Minibatch[1-5]: metric = 67.32% * 50000;\n",
      "CV Error: 0.6732\n",
      "Finished Epoch[89]: loss = 2.417636 * 50000, metric = 68.81% * 50000 2.534s (19731.6 samples/s);\n",
      "Finished Evaluation [89]: Minibatch[1-5]: metric = 67.51% * 50000;\n",
      "CV Error: 0.67514\n",
      "Finished Epoch[90]: loss = 2.408985 * 50000, metric = 68.97% * 50000 2.411s (20738.3 samples/s);\n",
      "Finished Evaluation [90]: Minibatch[1-5]: metric = 67.37% * 50000;\n",
      "CV Error: 0.6737\n",
      "Finished Epoch[91]: loss = 2.406979 * 50000, metric = 68.61% * 50000 2.278s (21949.1 samples/s);\n"
     ]
    },
    {
     "name": "stdout",
     "output_type": "stream",
     "text": [
      "Finished Evaluation [91]: Minibatch[1-5]: metric = 67.90% * 50000;\n",
      "CV Error: 0.679\n",
      "Finished Epoch[92]: loss = 2.413275 * 50000, metric = 69.26% * 50000 2.352s (21258.5 samples/s);\n",
      "Finished Evaluation [92]: Minibatch[1-5]: metric = 67.40% * 50000;\n",
      "CV Error: 0.674\n",
      "Finished Epoch[93]: loss = 2.395472 * 50000, metric = 68.74% * 50000 2.126s (23518.3 samples/s);\n",
      "Finished Evaluation [93]: Minibatch[1-5]: metric = 67.38% * 50000;\n",
      "CV Error: 0.67378\n",
      "Finished Epoch[94]: loss = 2.397295 * 50000, metric = 68.76% * 50000 2.489s (20088.4 samples/s);\n",
      "Finished Evaluation [94]: Minibatch[1-5]: metric = 67.57% * 50000;\n",
      "CV Error: 0.67568\n",
      "Finished Epoch[95]: loss = 2.398835 * 50000, metric = 68.83% * 50000 2.315s (21598.3 samples/s);\n",
      "Finished Evaluation [95]: Minibatch[1-5]: metric = 67.59% * 50000;\n",
      "CV Error: 0.67588\n",
      "Finished Epoch[96]: loss = 2.390077 * 50000, metric = 68.82% * 50000 2.330s (21459.2 samples/s);\n",
      "Finished Evaluation [96]: Minibatch[1-5]: metric = 67.13% * 50000;\n",
      "CV Error: 0.67134\n",
      "Finished Epoch[97]: loss = 2.382237 * 50000, metric = 68.61% * 50000 2.435s (20533.9 samples/s);\n",
      "Finished Evaluation [97]: Minibatch[1-5]: metric = 67.63% * 50000;\n",
      "CV Error: 0.67628\n",
      "Finished Epoch[98]: loss = 2.384454 * 50000, metric = 68.97% * 50000 2.330s (21459.2 samples/s);\n",
      "Finished Evaluation [98]: Minibatch[1-5]: metric = 67.94% * 50000;\n",
      "CV Error: 0.67942\n",
      "Finished Epoch[99]: loss = 2.388437 * 50000, metric = 69.24% * 50000 2.542s (19669.6 samples/s);\n",
      "Finished Evaluation [99]: Minibatch[1-5]: metric = 67.24% * 50000;\n",
      "CV Error: 0.67242\n",
      "Finished Epoch[100]: loss = 2.381843 * 50000, metric = 68.73% * 50000 2.488s (20096.5 samples/s);\n",
      "Finished Evaluation [100]: Minibatch[1-5]: metric = 67.60% * 50000;\n",
      "CV Error: 0.676\n"
     ]
    }
   ],
   "source": [
    "progress = criterion.train(train_source, \n",
    "                           minibatch_size = minibatch_size,\n",
    "                           model_inputs_to_streams = input_map,\n",
    "                           epoch_size = epoch_size,\n",
    "                           max_epochs = 100, \n",
    "                           parameter_learners = [learner], \n",
    "                           callbacks = [progress_writer, cv_config])#, checkpoint_config])#, test_config])\n"
   ]
  },
  {
   "cell_type": "code",
   "execution_count": 26,
   "metadata": {},
   "outputs": [],
   "source": [
    "inf_model = C.softmax(model)"
   ]
  },
  {
   "cell_type": "code",
   "execution_count": 27,
   "metadata": {},
   "outputs": [],
   "source": [
    "inf_model.save(model_path)"
   ]
  },
  {
   "cell_type": "code",
   "execution_count": 28,
   "metadata": {},
   "outputs": [
    {
     "data": {
      "text/plain": [
       "'.\\\\outputs\\\\model.dnn'"
      ]
     },
     "execution_count": 28,
     "metadata": {},
     "output_type": "execute_result"
    }
   ],
   "source": [
    "model_path"
   ]
  },
  {
   "cell_type": "code",
   "execution_count": null,
   "metadata": {},
   "outputs": [],
   "source": []
  }
 ],
 "metadata": {
  "kernelspec": {
   "display_name": "BikeShareSample local",
   "language": "python",
   "name": "bikesharesample_local"
  },
  "language_info": {
   "codemirror_mode": {
    "name": "ipython",
    "version": 3
   },
   "file_extension": ".py",
   "mimetype": "text/x-python",
   "name": "python",
   "nbconvert_exporter": "python",
   "pygments_lexer": "ipython3",
   "version": "3.5.2"
  }
 },
 "nbformat": 4,
 "nbformat_minor": 2
}
